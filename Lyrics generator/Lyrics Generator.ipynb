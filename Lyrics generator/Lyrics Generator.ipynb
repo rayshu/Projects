{
 "cells": [
  {
   "cell_type": "code",
   "execution_count": 1,
   "metadata": {
    "colab": {},
    "colab_type": "code",
    "id": "UtbOJRKfzyqI"
   },
   "outputs": [],
   "source": [
    "import numpy as np"
   ]
  },
  {
   "cell_type": "code",
   "execution_count": 2,
   "metadata": {
    "colab": {},
    "colab_type": "code",
    "id": "9tXt1iZJzyqT"
   },
   "outputs": [],
   "source": [
    "def generateTable(data,k=4):\n",
    "    T = {}\n",
    "    for i in range(len(data)-k):\n",
    "        X = data[i:i+k]\n",
    "        Y = data[i+k]\n",
    "        #print(\"X  %s and Y %s  \"%(X,Y))\n",
    "        \n",
    "        if T.get(X) is None:\n",
    "            T[X] = {}\n",
    "            T[X][Y] = 1\n",
    "        else:\n",
    "            if T[X].get(Y) is None:\n",
    "                T[X][Y] = 1\n",
    "            else:\n",
    "                T[X][Y] += 1\n",
    "    return T"
   ]
  },
  {
   "cell_type": "code",
   "execution_count": 3,
   "metadata": {
    "colab": {},
    "colab_type": "code",
    "id": "0dxJVicAzyqZ"
   },
   "outputs": [],
   "source": [
    "def convertFreqIntoProb(T):     \n",
    "    for kx in T.keys():\n",
    "        s = float(sum(T[kx].values()))\n",
    "        for k in T[kx].keys():\n",
    "            T[kx][k] = T[kx][k]/s\n",
    "                \n",
    "    return T"
   ]
  },
  {
   "cell_type": "code",
   "execution_count": 4,
   "metadata": {
    "colab": {},
    "colab_type": "code",
    "id": "RUC_YDlqzyqi"
   },
   "outputs": [],
   "source": [
    "text_path = \"Song.txt\"\n",
    "def load_text(filename):\n",
    "    with open(filename) as f:\n",
    "        return f.read()\n",
    "    \n",
    "text = load_text(text_path)\n",
    "#text = load_text(\"sample_code.txt\")"
   ]
  },
  {
   "cell_type": "code",
   "execution_count": 5,
   "metadata": {
    "colab": {
     "base_uri": "https://localhost:8080/",
     "height": 35
    },
    "colab_type": "code",
    "executionInfo": {
     "elapsed": 1105,
     "status": "ok",
     "timestamp": 1563968922453,
     "user": {
      "displayName": "shubham goel",
      "photoUrl": "https://lh4.googleusercontent.com/-GZTT5q21i9g/AAAAAAAAAAI/AAAAAAAAADw/7sKrcNU3mxQ/s64/photo.jpg",
      "userId": "07335728827665925018"
     },
     "user_tz": -330
    },
    "id": "mBLFHs02zyqw",
    "outputId": "80395f60-8a0a-4ad3-e84e-75d46e6471b0"
   },
   "outputs": [
    {
     "name": "stdout",
     "output_type": "stream",
     "text": [
      "1280\n"
     ]
    }
   ],
   "source": [
    "print(len(text))"
   ]
  },
  {
   "cell_type": "markdown",
   "metadata": {
    "colab_type": "text",
    "id": "97ntDYx5zyrA"
   },
   "source": [
    "## Train our Markov Chain"
   ]
  },
  {
   "cell_type": "code",
   "execution_count": 6,
   "metadata": {
    "colab": {},
    "colab_type": "code",
    "id": "oonvjRLgzyrC"
   },
   "outputs": [],
   "source": [
    "def trainMarkovChain(text,k=4):\n",
    "    T = generateTable(text,k)\n",
    "    T = convertFreqIntoProb(T)\n",
    "    return T    "
   ]
  },
  {
   "cell_type": "code",
   "execution_count": 7,
   "metadata": {
    "colab": {},
    "colab_type": "code",
    "id": "TQZdTTgKzyrK"
   },
   "outputs": [],
   "source": [
    "model = trainMarkovChain(text.lower())"
   ]
  },
  {
   "cell_type": "markdown",
   "metadata": {
    "colab_type": "text",
    "id": "yctjEJqxzyrR"
   },
   "source": [
    "## Generate Text at Next Time!\n"
   ]
  },
  {
   "cell_type": "code",
   "execution_count": 8,
   "metadata": {
    "colab": {},
    "colab_type": "code",
    "id": "Z7gJdhutzyrU"
   },
   "outputs": [],
   "source": [
    "def sample_next(ctx,T,k):\n",
    "    if T.get(ctx) is None:\n",
    "        return \" \"\n",
    "    possible_Chars = list(T[ctx].keys())\n",
    "    possible_values = list(T[ctx].values())\n",
    "    \n",
    "    #print(possible_Chars)\n",
    "    #print(possible_values)\n",
    "    \n",
    "    return np.random.choice(possible_Chars,p=possible_values)\n",
    "    \n",
    "   # return f"
   ]
  },
  {
   "cell_type": "code",
   "execution_count": 9,
   "metadata": {
    "colab": {},
    "colab_type": "code",
    "id": "k5LyN20Wzyrh"
   },
   "outputs": [],
   "source": [
    "def generateText(starting_sent,k=4,maxLen=2000):\n",
    "    \n",
    "    sentence = starting_sent\n",
    "    ctx = sentence[-k:]\n",
    "    \n",
    "    for ix in range(maxLen):\n",
    "        next_prediction = sample_next(ctx,model,k)\n",
    "        sentence += next_prediction\n",
    "        ctx = sentence[-k:]\n",
    "\n",
    "    return sentence"
   ]
  },
  {
   "cell_type": "code",
   "execution_count": 14,
   "metadata": {
    "colab": {
     "base_uri": "https://localhost:8080/",
     "height": 1000
    },
    "colab_type": "code",
    "executionInfo": {
     "elapsed": 794,
     "status": "ok",
     "timestamp": 1563968931470,
     "user": {
      "displayName": "shubham goel",
      "photoUrl": "https://lh4.googleusercontent.com/-GZTT5q21i9g/AAAAAAAAAAI/AAAAAAAAADw/7sKrcNU3mxQ/s64/photo.jpg",
      "userId": "07335728827665925018"
     },
     "user_tz": -330
    },
    "id": "Q5iXb7H4zyr3",
    "outputId": "2875ebe8-e91f-4517-b369-de8c72a8995a"
   },
   "outputs": [
    {
     "name": "stdout",
     "output_type": "stream",
     "text": [
      "apna time aayega?\n",
      "kaun bola?\n",
      "apna time aayega\n",
      "apna time aaya hai\n",
      "har raakh se jeene mein\n",
      "parwaaz dekh par aayega\n",
      "apna time aayega\n",
      "ab kaise tu dafnayega\n",
      "mere bhai seene mein hai\n",
      "zaroorat nahi hai\n",
      "zaroorat ki, ibadat ki, ibadat ki\n",
      "aasmaan bhi sataayega\n",
      "apna time aayega, apna time aayega\n",
      "tujhe naa ho payega\n",
      "jitna hi barkat ki\n",
      "aasmaan bhi ladka sehmat mein hai\n",
      "jo dar ko bhi ladka sehmat mein\n",
      "parwaaz dekh par aayega\n",
      "aisa mera khwab\n",
      "ab hausle se\n",
      "matlab bana lala\n",
      "mere jaisa shabdo ka jwaalach nahi hai\n",
      "dikkat ki\n",
      "aasmaan bhi sar par\n",
      "yahan parwaaz dekh parwaane ki hai\n",
      "har raakh se tu dafnayega\n",
      "ye shaana ab talaash mein hai\n",
      "dikkat di hai\n",
      "kya ghanta lekar jaayega\n",
      "apna time aayega\n",
      "apna time aaya khudki mehnat se jeene se tu\n",
      "uth ja apna time aayega\n",
      "apna time aaya hai jaisa koi hai\n",
      "hard...\n",
      "iss hard'ich nahi\n",
      "utni rehmat mein nahi toh khaayega\n",
      "kisi ka jwaalat yahan marzi ki apna tune boya haath nahi hai, ab jeene mein hai seene de\n",
      "ab khauf nahi\n",
      "utni rehmat mein\n",
      "har raaste ko bhi sar uthayega\n",
      "kisi ka jwaalat yeh hai\n",
      "hard'ich nahi hai\n",
      "kya ghanta lekar jaayega?\n",
      "kaun bola mujhse na mil paayega\n",
      "aayega\n",
      "apna time aayega\n",
      "jitni raakh se main\n",
      "jitna time aaya hai\n",
      "kyunki aur zurrat yeh hai seene mein\n",
      "kyun?\n",
      "kyunki hard, hard, hard...\n",
      "iss hard'ich nahi\n",
      "utni raaste ko cheerenge\n",
      "hum kaamyabi chahat ki hai\n",
      "jo dar ko bhi ladka sehmat nahi hai\n",
      "tu utna hi toh aayega\n",
      "aayega\n",
      "apna time aayega\n",
      "mere bhai jaisa mera khudki mehnat ki\n",
      "ab kuch mila paseene se tu dafnayega\n",
      "ye shabdo ka jwaalat yeh hai\n",
      "kya ghanta lekar jaayega\n",
      "ye shabdo ka hai\n",
      "hard, hard'ich nahi hai\n",
      "jo dar ko bhi sataayega\n",
      "apna time aayega\n",
      "apna time aayega\n",
      "apna time aayega\n",
      "tu utna hi toh khauf nahi hard'ich nahi hai\n",
      "zaroorat ki aur zurrat ki hai chahat ki apna time aayega\n",
      "apna time aayega\n",
      "apna time aayega\n",
      "aayega\n",
      "apna time aayega\n",
      "apna time aayega\n",
      "apna time aayega\n",
      "mere bhai cheene mein\n",
      "parwaane ki\n",
      "jeetne ki\n",
      "aasmaan bhi sataayega\n",
      "apna time aayega\n",
      "apna time aayega\n",
      "tujhe na mil paayega\n",
      "ye shaana lala\n",
      "meri bediyan parwaane ki aur zurrat kismat nahi hai\n",
      "ha\n"
     ]
    }
   ],
   "source": [
    "np.random.seed(10)\n",
    "text = generateText(\"apna\",k=4,maxLen=2000)\n",
    "print(text)"
   ]
  },
  {
   "cell_type": "markdown",
   "metadata": {
    "colab_type": "text",
    "id": "jxxA3LrwzysJ"
   },
   "source": [
    "# For creating a new text file if it doesn't exist"
   ]
  },
  {
   "cell_type": "code",
   "execution_count": 12,
   "metadata": {
    "colab": {},
    "colab_type": "code",
    "id": "qRIo1LvdzysL"
   },
   "outputs": [],
   "source": [
    "lyrics = open(\"filetest.txt\",\"w\")"
   ]
  },
  {
   "cell_type": "code",
   "execution_count": 13,
   "metadata": {
    "colab": {},
    "colab_type": "code",
    "id": "flW4J082zysS"
   },
   "outputs": [],
   "source": [
    "lyrics.write(text)\n",
    "lyrics.close()"
   ]
  },
  {
   "cell_type": "code",
   "execution_count": 0,
   "metadata": {
    "colab": {},
    "colab_type": "code",
    "id": "MLxPijJ-zysY"
   },
   "outputs": [],
   "source": []
  }
 ],
 "metadata": {
  "colab": {
   "collapsed_sections": [],
   "name": "Apna_time_aayega.ipynb",
   "provenance": [],
   "toc_visible": true,
   "version": "0.3.2"
  },
  "kernelspec": {
   "display_name": "Python 3",
   "language": "python",
   "name": "python3"
  },
  "language_info": {
   "codemirror_mode": {
    "name": "ipython",
    "version": 3
   },
   "file_extension": ".py",
   "mimetype": "text/x-python",
   "name": "python",
   "nbconvert_exporter": "python",
   "pygments_lexer": "ipython3",
   "version": "3.8.3"
  }
 },
 "nbformat": 4,
 "nbformat_minor": 1
}
