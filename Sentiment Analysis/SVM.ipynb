{
 "cells": [
  {
   "cell_type": "code",
   "execution_count": 1,
   "metadata": {},
   "outputs": [],
   "source": [
    "import pandas as pd\n",
    "import numpy as np\n",
    "\n",
    "import matplotlib.pyplot as plt\n",
    "import seaborn as sns\n",
    "\n",
    "from sklearn.feature_extraction.text import TfidfVectorizer\n",
    "from sklearn.feature_extraction.text import CountVectorizer\n",
    "from sklearn import model_selection, svm\n",
    "\n",
    "from sklearn.model_selection import cross_val_score\n",
    "from sklearn.metrics import confusion_matrix, accuracy_score\n",
    "\n",
    "from sklearn.pipeline import Pipeline\n",
    "from sklearn.model_selection import GridSearchCV"
   ]
  },
  {
   "cell_type": "markdown",
   "metadata": {},
   "source": [
    "# Load data"
   ]
  },
  {
   "cell_type": "code",
   "execution_count": 2,
   "metadata": {},
   "outputs": [
    {
     "data": {
      "text/html": [
       "<div>\n",
       "<style scoped>\n",
       "    .dataframe tbody tr th:only-of-type {\n",
       "        vertical-align: middle;\n",
       "    }\n",
       "\n",
       "    .dataframe tbody tr th {\n",
       "        vertical-align: top;\n",
       "    }\n",
       "\n",
       "    .dataframe thead th {\n",
       "        text-align: right;\n",
       "    }\n",
       "</style>\n",
       "<table border=\"1\" class=\"dataframe\">\n",
       "  <thead>\n",
       "    <tr style=\"text-align: right;\">\n",
       "      <th></th>\n",
       "      <th>Text</th>\n",
       "      <th>Label</th>\n",
       "      <th>sentiment</th>\n",
       "    </tr>\n",
       "  </thead>\n",
       "  <tbody>\n",
       "    <tr>\n",
       "      <th>0</th>\n",
       "      <td>modi promise</td>\n",
       "      <td>-1</td>\n",
       "      <td>0</td>\n",
       "    </tr>\n",
       "    <tr>\n",
       "      <th>1</th>\n",
       "      <td>say vote modi welcome bjp told rahul main camp...</td>\n",
       "      <td>1</td>\n",
       "      <td>1</td>\n",
       "    </tr>\n",
       "    <tr>\n",
       "      <th>2</th>\n",
       "      <td>ask supporter prefix chowkidar name modi great...</td>\n",
       "      <td>1</td>\n",
       "      <td>1</td>\n",
       "    </tr>\n",
       "    <tr>\n",
       "      <th>3</th>\n",
       "      <td>answer among powerful world leader today trump...</td>\n",
       "      <td>1</td>\n",
       "      <td>1</td>\n",
       "    </tr>\n",
       "    <tr>\n",
       "      <th>4</th>\n",
       "      <td>upcoming election india saga go important pair...</td>\n",
       "      <td>1</td>\n",
       "      <td>1</td>\n",
       "    </tr>\n",
       "    <tr>\n",
       "      <th>...</th>\n",
       "      <td>...</td>\n",
       "      <td>...</td>\n",
       "      <td>...</td>\n",
       "    </tr>\n",
       "    <tr>\n",
       "      <th>34418</th>\n",
       "      <td>modi know sell institution like idbi bank form...</td>\n",
       "      <td>-1</td>\n",
       "      <td>0</td>\n",
       "    </tr>\n",
       "    <tr>\n",
       "      <th>34419</th>\n",
       "      <td>saw video full comedy show disclose plan test ...</td>\n",
       "      <td>-1</td>\n",
       "      <td>0</td>\n",
       "    </tr>\n",
       "    <tr>\n",
       "      <th>34420</th>\n",
       "      <td>dont waste think capacity observation people modi</td>\n",
       "      <td>-1</td>\n",
       "      <td>0</td>\n",
       "    </tr>\n",
       "    <tr>\n",
       "      <th>34421</th>\n",
       "      <td>open possibility shell company set sole purpos...</td>\n",
       "      <td>-1</td>\n",
       "      <td>0</td>\n",
       "    </tr>\n",
       "    <tr>\n",
       "      <th>34422</th>\n",
       "      <td>actually problem modi alonewe survive without ...</td>\n",
       "      <td>-1</td>\n",
       "      <td>0</td>\n",
       "    </tr>\n",
       "  </tbody>\n",
       "</table>\n",
       "<p>34423 rows × 3 columns</p>\n",
       "</div>"
      ],
      "text/plain": [
       "                                                    Text  Label  sentiment\n",
       "0                                           modi promise     -1          0\n",
       "1      say vote modi welcome bjp told rahul main camp...      1          1\n",
       "2      ask supporter prefix chowkidar name modi great...      1          1\n",
       "3      answer among powerful world leader today trump...      1          1\n",
       "4      upcoming election india saga go important pair...      1          1\n",
       "...                                                  ...    ...        ...\n",
       "34418  modi know sell institution like idbi bank form...     -1          0\n",
       "34419  saw video full comedy show disclose plan test ...     -1          0\n",
       "34420  dont waste think capacity observation people modi     -1          0\n",
       "34421  open possibility shell company set sole purpos...     -1          0\n",
       "34422  actually problem modi alonewe survive without ...     -1          0\n",
       "\n",
       "[34423 rows x 3 columns]"
      ]
     },
     "execution_count": 2,
     "metadata": {},
     "output_type": "execute_result"
    }
   ],
   "source": [
    "df = pd.read_csv('data/cleanData.csv')\n",
    "df['sentiment'] = np.where(df['Label']==1, 1, 0)\n",
    "df"
   ]
  },
  {
   "cell_type": "markdown",
   "metadata": {},
   "source": [
    "# Train Test Split"
   ]
  },
  {
   "cell_type": "code",
   "execution_count": 3,
   "metadata": {},
   "outputs": [
    {
     "name": "stdout",
     "output_type": "stream",
     "text": [
      "Size of Training data  :  27538\n",
      "Size of Validation data:  6885\n"
     ]
    }
   ],
   "source": [
    "Train_X, Test_X, Train_Y, Test_Y = model_selection.train_test_split(df['Text'],df['sentiment'],test_size=0.2)\n",
    "print('Size of Training data  : ', Train_X.shape[0])\n",
    "print('Size of Validation data: ', Test_X.shape[0])"
   ]
  },
  {
   "cell_type": "code",
   "execution_count": 4,
   "metadata": {},
   "outputs": [
    {
     "name": "stdout",
     "output_type": "stream",
     "text": [
      "Train Data Distribution\n",
      "1    14359\n",
      "0    13179\n",
      "Name: a, dtype: int64\n",
      "\n",
      "\n",
      "Validation Data Distribution\n",
      "1    3584\n",
      "0    3301\n",
      "Name: a, dtype: int64\n"
     ]
    }
   ],
   "source": [
    "Train_counts = pd.DataFrame(Train_Y.values, columns = list('a'))\n",
    "print('Train Data Distribution')\n",
    "print(Train_counts['a'].value_counts())\n",
    "\n",
    "Test_counts = pd.DataFrame(Test_Y.values, columns = list('a'))\n",
    "print('\\n\\nValidation Data Distribution')\n",
    "print(Test_counts['a'].value_counts())"
   ]
  },
  {
   "cell_type": "markdown",
   "metadata": {},
   "source": [
    "# Extracting Features\n",
    "## TF-IDF\n",
    "tf-idf (term frequency–inverse document frequency), is a numerical statistic that is intended to reflect how important a word is to a document in a collection or corpus.\n",
    "\n",
    "* Term Frequency tf, is the raw count of a term in a document.\n",
    "* Inverse Document Frequency idf, is a measure of how much information the word provides, i.e., if it's common or rare across all documents.\n",
    "\n",
    "## TfidfVectorizer\n",
    "* **ngram_range=(min, max):** Boundary for different n-grams to be extracted. (1,1)=unigrams only, (1,2)=unigrams and bigrams, (2,2)=bigrams only.\n",
    "* **max_df=<float in range[0.0, 1.0] or int default=1.0>:** Ignore terms with document frequency higher than max_df.\n",
    "* **min_df=<float in range[0.0, 1.0] or int default=1.0>:** Ignore terms with document frequency lower than min_df.\n",
    "* **max_features=int:** limits the features to be extracted to top max_features value\n",
    "* **use_idf=bool(default=True):** Enable inverse-document-reweighting.\n",
    "* **sublinear_tf=bool(default=False):** Apply sublinear tf scaling i.e. replace tf with 1+log(tf)"
   ]
  },
  {
   "cell_type": "code",
   "execution_count": 5,
   "metadata": {},
   "outputs": [],
   "source": [
    "df_positive = df.loc[df[\"Label\"]==1,:]\n",
    "df_negative = df.loc[df[\"Label\"]==-1,:]\n",
    "\n",
    "Tfidf_vect = TfidfVectorizer(ngram_range=(1,2), max_features=10000, min_df=5)\n",
    "#Learn the vocabulary\n",
    "Tfidf_vect.fit(df['Text'].astype(str))\n",
    "Train_X_Tfidf = Tfidf_vect.transform(Train_X.astype(str))\n",
    "Test_X_Tfidf = Tfidf_vect.transform(Test_X.astype(str))"
   ]
  },
  {
   "cell_type": "code",
   "execution_count": 6,
   "metadata": {},
   "outputs": [
    {
     "name": "stdout",
     "output_type": "stream",
     "text": [
      "# Positive\n",
      ". beating\n",
      ". modi indian\n",
      ". happen modi\n",
      ". fast\n",
      ". heart\n",
      ". happen\n",
      ". indian\n",
      ". modi\n",
      ". general public\n",
      ". genius\n"
     ]
    }
   ],
   "source": [
    "N = 10\n",
    "\n",
    "#Positive data\n",
    "features_positive = Tfidf_vect.fit_transform(df_positive.Text.astype(str))\n",
    "feature_names = np.array(Tfidf_vect.get_feature_names())\n",
    "tfidf_sorting = np.argsort(features_positive.toarray()).flatten()[::-1]\n",
    "top_positive = feature_names[tfidf_sorting][:N]\n",
    "# print(Tfidf_vect.vocabulary_)\n",
    "print('# Positive')\n",
    "print(\". {}\".format('\\n. '.join(top_positive)))"
   ]
  },
  {
   "cell_type": "code",
   "execution_count": 6,
   "metadata": {},
   "outputs": [
    {
     "name": "stdout",
     "output_type": "stream",
     "text": [
      "# Negative\n",
      ". survive\n",
      ". problem modi\n",
      ". difficult\n",
      ". actually\n",
      ". problem\n",
      ". without\n",
      ". congress\n",
      ". modi\n",
      ". fully\n",
      ". full majority\n"
     ]
    }
   ],
   "source": [
    "N = 10\n",
    "\n",
    "#Negative data\n",
    "features_negative = Tfidf_vect.fit_transform(df_negative.Text.astype(str))\n",
    "feature_names = np.array(Tfidf_vect.get_feature_names())\n",
    "tfidf_sorting = np.argsort(features_negative.toarray()).flatten()[::-1]\n",
    "top_negative = feature_names[tfidf_sorting][:N]\n",
    "# print(Tfidf_vect.vocabulary_)\n",
    "print('# Negative')\n",
    "print(\". {}\".format('\\n. '.join(top_negative)))"
   ]
  },
  {
   "cell_type": "code",
   "execution_count": 10,
   "metadata": {},
   "outputs": [
    {
     "name": "stdout",
     "output_type": "stream",
     "text": [
      "Text:  absolutely correct pai modi never promise lac bank account always wonder bjp able effectively counter lie rahul\n",
      "TF-IDF:\n",
      "   (0, 8794)\t0.3476435148757134\n",
      "  (0, 6200)\t0.5824641441813103\n",
      "  (0, 6197)\t0.28498575051982244\n",
      "  (0, 5988)\t0.40625077446161334\n",
      "  (0, 5534)\t0.07683395156012712\n",
      "  (0, 2994)\t0.31075403650004424\n",
      "  (0, 1065)\t0.37897053539457676\n",
      "  (0, 1035)\t0.21802005308530512\n"
     ]
    }
   ],
   "source": [
    "print('Text: ', Train_X[11533])\n",
    "print('TF-IDF:\\n', Train_X_Tfidf[11533])"
   ]
  },
  {
   "cell_type": "markdown",
   "metadata": {},
   "source": [
    "# Training Model"
   ]
  },
  {
   "cell_type": "code",
   "execution_count": 11,
   "metadata": {},
   "outputs": [
    {
     "name": "stdout",
     "output_type": "stream",
     "text": [
      "Wall time: 6min 18s\n"
     ]
    }
   ],
   "source": [
    "%%time\n",
    "clf = svm.SVC()\n",
    "clf = clf.fit(Train_X_Tfidf,Train_Y)"
   ]
  },
  {
   "cell_type": "code",
   "execution_count": 12,
   "metadata": {},
   "outputs": [
    {
     "name": "stdout",
     "output_type": "stream",
     "text": [
      "\n",
      "SVM Accuracy Score: 85.42%\n",
      "Confusion Matrix\n",
      "[[2724  577]\n",
      " [ 427 3157]]\n"
     ]
    }
   ],
   "source": [
    "# predict the labels on validation dataset\n",
    "predictions = clf.predict(Test_X_Tfidf)\n",
    "# Use accuracy_score function to get the accuracy\n",
    "print(\"\\nSVM Accuracy Score: {:.2f}%\".format(accuracy_score(predictions, Test_Y)*100))\n",
    "print(\"Confusion Matrix\")\n",
    "conf_mat = confusion_matrix(Test_Y,predictions)\n",
    "print(conf_mat)"
   ]
  },
  {
   "cell_type": "code",
   "execution_count": 13,
   "metadata": {},
   "outputs": [
    {
     "data": {
      "text/plain": [
       "Text(0.5, 24.0, 'Predicted')"
      ]
     },
     "execution_count": 13,
     "metadata": {},
     "output_type": "execute_result"
    },
    {
     "data": {
      "image/png": "[encoded data removed]",
      "text/plain": [
       "<Figure size 360x360 with 2 Axes>"
      ]
     },
     "metadata": {
      "needs_background": "light"
     },
     "output_type": "display_data"
    }
   ],
   "source": [
    "fig, ax = plt.subplots(figsize=(5,5))\n",
    "sns.heatmap(conf_mat, annot=True, fmt='d',\n",
    "            xticklabels=['Negative', 'Positive'], yticklabels=['Negative', 'Positive'])\n",
    "plt.title('Confusion Matrix')\n",
    "plt.ylabel('Actual')\n",
    "plt.xlabel('Predicted')"
   ]
  },
  {
   "cell_type": "markdown",
   "metadata": {},
   "source": [
    "# Classifying new data"
   ]
  },
  {
   "cell_type": "code",
   "execution_count": 24,
   "metadata": {},
   "outputs": [
    {
     "name": "stdout",
     "output_type": "stream",
     "text": [
      "Positive\n"
     ]
    }
   ],
   "source": [
    "X = pd.DataFrame ({'Text': ['feeling great today']}, columns=['Text'])\n",
    "X_Tfidf = Tfidf_vect.transform(X.astype(str))\n",
    "prediction = clf.predict(X_Tfidf)\n",
    "print('Positive' if prediction==1 else 'Negative')"
   ]
  },
  {
   "cell_type": "code",
   "execution_count": null,
   "metadata": {},
   "outputs": [],
   "source": []
  }
 ],
 "metadata": {
  "kernelspec": {
   "display_name": "Python 3",
   "language": "python",
   "name": "python3"
  },
  "language_info": {
   "codemirror_mode": {
    "name": "ipython",
    "version": 3
   },
   "file_extension": ".py",
   "mimetype": "text/x-python",
   "name": "python",
   "nbconvert_exporter": "python",
   "pygments_lexer": "ipython3",
   "version": "3.8.3"
  }
 },
 "nbformat": 4,
 "nbformat_minor": 4
}
